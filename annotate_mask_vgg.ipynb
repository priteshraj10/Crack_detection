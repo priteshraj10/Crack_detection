{
 "cells": [
  {
   "cell_type": "code",
   "execution_count": null,
   "metadata": {},
   "outputs": [],
   "source": [
    "# auto mask vgg model using computer vision\n",
    "import os\n",
    "import cv2\n",
    "import numpy as np\n",
    "import matplotlib.pyplot as plt"
   ]
  },
  {
   "cell_type": "code",
   "execution_count": null,
   "metadata": {},
   "outputs": [
    {
     "data": {
      "text/plain": [
       "['.git',\n",
       " '.gitignore',\n",
       " 'A.i_computer_vision_task.pdf',\n",
       " 'annotate_mask_vgg.ipynb',\n",
       " 'coco_mask',\n",
       " 'dataset',\n",
       " 'logs',\n",
       " 'mask_rcnn.ipynb',\n",
       " 'mrcnn',\n",
       " 'u_net_detect.ipynb',\n",
       " 'via_project.xml']"
      ]
     },
     "execution_count": 2,
     "metadata": {},
     "output_type": "execute_result"
    }
   ],
   "source": [
    "# get the files in the folder\n",
    "files = os.getcwd()\n",
    "\n",
    "# folder inside the folder\n",
    "files = os.listdir(files)\n",
    "files\n"
   ]
  },
  {
   "cell_type": "code",
   "execution_count": null,
   "metadata": {},
   "outputs": [],
   "source": [
    "# VGG annotation file for \"accept001011.jpg4484\"\n",
    "# {\n",
    "#     \"accept001011.jpg4484\": {\n",
    "#         \"filename\": \"accept001011.jpg\",\n",
    "#         \"size\": 4484,\n",
    "#         \"regions\": [\n",
    "#             {\n",
    "#                 \"shape_attributes\": {\n",
    "#                     \"name\": \"polygon\",\n",
    "#                     \"all_points_x\": [\n",
    "#                         59,\n",
    "#                         59,\n",
    "#                         60,\n",
    "#                         46,\n",
    "#                         36,\n",
    "#                         41,\n",
    "#                         38,\n",
    "#                         37,\n",
    "#                         37,\n",
    "#                         36,\n",
    "#                         47,\n",
    "#                         51,\n",
    "#                         55,\n",
    "#                         61,\n",
    "#                         71,\n",
    "#                         75,\n",
    "#                         74,\n",
    "#                         73,\n",
    "#                         73\n",
    "#                     ],\n",
    "#                     \"all_points_y\": [\n",
    "#                         0,\n",
    "#                         21,\n",
    "#                         31,\n",
    "#                         42,\n",
    "#                         53,\n",
    "#                         68,\n",
    "#                         85,\n",
    "#                         93,\n",
    "#                         98,\n",
    "#                         99,\n",
    "#                         100,\n",
    "#                         99,\n",
    "#                         57,\n",
    "#                         43,\n",
    "#                         37,\n",
    "#                         28,\n",
    "#                         13,\n",
    "#                         3,\n",
    "#                         0\n",
    "#                     ]\n",
    "#                 },\n",
    "#                 \"region_attributes\": {}\n",
    "#             }\n",
    "#         ],\n",
    "#         \"file_attributes\": {}\n",
    "#     },\n"
   ]
  },
  {
   "cell_type": "code",
   "execution_count": null,
   "metadata": {},
   "outputs": [],
   "source": [
    "# create a annotation file for all image\n",
    "import json\n",
    "import os\n",
    "import cv2\n",
    "import numpy as np\n",
    "import matplotlib.pyplot as plt\n",
    "\n",
    "def get_contours(image):\n",
    "    # convert image to grayscale\n",
    "    gray = cv2.cvtColor(image, cv2.COLOR_BGR2GRAY)\n",
    "    # apply gaussian blur\n",
    "    blur = cv2.GaussianBlur(gray, (5, 5), 0)\n",
    "    # apply canny edge detection\n",
    "    canny = cv2.Canny(blur, 50, 150)\n",
    "    # apply dilation\n",
    "    kernel = np.ones((5, 5), np.uint8)\n",
    "    dilated = cv2.dilate(canny, kernel, iterations=1)\n",
    "    # apply erosion\n",
    "    eroded = cv2.erode(dilated, kernel, iterations=1)\n",
    "    # find contours\n",
    "    contours, hierarchy = cv2.findContours(eroded, cv2.RETR_TREE, cv2.CHAIN_APPROX_SIMPLE)\n",
    "    return contours\n",
    "\n",
    "# function for drawing contours on an image\n",
    "def draw_contours(image, contours):\n",
    "    # draw contours on a copy of the image\n",
    "    image_copy = np.copy(image)\n",
    "    image_copy = cv2.drawContours(image_copy, contours, -1, (0, 255, 0), 3)\n",
    "    return image_copy\n",
    "\n",
    "# function for sorting contours from left to right\n",
    "def x_cord_contour(contour):\n",
    "    # Get the bounding rectangle\n",
    "    (x, y, w, h) = cv2.boundingRect(contour)\n",
    "    # Return the x coordinate of the top-left corner of the bounding rectangle\n",
    "    # If the bounding rectangle is empty, return a default value of -1\n",
    "    return x if (x and y and w and h) else -1\n",
    "\n",
    "# function for mask image\n",
    "def mask_image(image, contours):\n",
    "    # fill contours\n",
    "    mask = np.zeros(image.shape[:2], dtype=np.uint8)\n",
    "    cv2.drawContours(mask, contours, -1, (255, 255, 255), 3)\n",
    "    return mask\n",
    "\n",
    "# function for displaying images\n",
    "def display(img, cmap='gray'):\n",
    "    fig = plt.figure(figsize=(12,10))\n",
    "    ax = fig.add_subplot(111)\n",
    "    ax.imshow(img, cmap='gray')\n",
    "\n"
   ]
  },
  {
   "cell_type": "code",
   "execution_count": null,
   "metadata": {},
   "outputs": [
    {
     "ename": "error",
     "evalue": "OpenCV(4.6.0) D:\\a\\opencv-python\\opencv-python\\opencv\\modules\\imgproc\\src\\color.cpp:182: error: (-215:Assertion failed) !_src.empty() in function 'cv::cvtColor'\n",
     "output_type": "error",
     "traceback": [
      "\u001b[1;31m---------------------------------------------------------------------------\u001b[0m",
      "\u001b[1;31merror\u001b[0m                                     Traceback (most recent call last)",
      "Cell \u001b[1;32mIn[5], line 5\u001b[0m\n\u001b[0;32m      2\u001b[0m image \u001b[39m=\u001b[39m cv2\u001b[39m.\u001b[39mimread(\u001b[39m'\u001b[39m\u001b[39mdataset/crack/accepted/accept001001.jpg\u001b[39m\u001b[39m'\u001b[39m)\n\u001b[0;32m      4\u001b[0m \u001b[39m# get contours\u001b[39;00m\n\u001b[1;32m----> 5\u001b[0m contours \u001b[39m=\u001b[39m get_contours(image)\n\u001b[0;32m      7\u001b[0m \u001b[39m# sort contours from left to right\u001b[39;00m\n\u001b[0;32m      8\u001b[0m contours \u001b[39m=\u001b[39m \u001b[39msorted\u001b[39m(contours, key\u001b[39m=\u001b[39mx_cord_contour, reverse\u001b[39m=\u001b[39m\u001b[39mFalse\u001b[39;00m)\n",
      "Cell \u001b[1;32mIn[4], line 10\u001b[0m, in \u001b[0;36mget_contours\u001b[1;34m(image)\u001b[0m\n\u001b[0;32m      8\u001b[0m \u001b[39mdef\u001b[39;00m \u001b[39mget_contours\u001b[39m(image):\n\u001b[0;32m      9\u001b[0m     \u001b[39m# convert image to grayscale\u001b[39;00m\n\u001b[1;32m---> 10\u001b[0m     gray \u001b[39m=\u001b[39m cv2\u001b[39m.\u001b[39;49mcvtColor(image, cv2\u001b[39m.\u001b[39;49mCOLOR_RGB2GRAY)\n\u001b[0;32m     11\u001b[0m     \u001b[39m# apply gaussian blur\u001b[39;00m\n\u001b[0;32m     12\u001b[0m     blur \u001b[39m=\u001b[39m cv2\u001b[39m.\u001b[39mGaussianBlur(gray, (\u001b[39m5\u001b[39m, \u001b[39m5\u001b[39m), \u001b[39m0\u001b[39m)\n",
      "\u001b[1;31merror\u001b[0m: OpenCV(4.6.0) D:\\a\\opencv-python\\opencv-python\\opencv\\modules\\imgproc\\src\\color.cpp:182: error: (-215:Assertion failed) !_src.empty() in function 'cv::cvtColor'\n"
     ]
    }
   ],
   "source": [
    "# load the image\n",
    "image = cv2.imread('dataset/crack/accepted/accept001001.jpg')\n",
    "\n",
    "# get contours\n",
    "contours = get_contours(image)\n",
    "\n",
    "# sort contours from left to right\n",
    "contours = sorted(contours, key=x_cord_contour, reverse=False)\n",
    "\n",
    "# draw contours on the image\n",
    "image_with_contours = draw_contours(image, contours)\n",
    "\n",
    "# mask image\n",
    "mask = mask_image(image, contours)\n",
    "\n",
    "# display the image with contours\n",
    "display(image_with_contours)\n",
    "\n",
    "# display the mask\n",
    "display(mask)\n"
   ]
  },
  {
   "cell_type": "code",
   "execution_count": null,
   "metadata": {},
   "outputs": [],
   "source": [
    "# # Image Annotator for image segmentation using contours and masks in OpenCV\n",
    "\n",
    "# # load the image\n",
    "# image = cv2.imread('dataset/crack/accepted/accept001001.jpg')\n",
    "\n",
    "# # sort contours left to right\n",
    "# contours_sorted = sorted(contours, key=x_cord_contour, reverse=False)\n",
    "\n",
    "# # draw contours on original image\n",
    "# image_with_sorted_contours = draw_contours(image, contours_sorted)\n",
    "\n",
    "# # display image with sorted contours\n",
    "# display(image_with_sorted_contours)\n",
    "\n",
    "# # mask image\n",
    "# mask = mask_image(image, contours_sorted)\n"
   ]
  },
  {
   "cell_type": "code",
   "execution_count": null,
   "metadata": {},
   "outputs": [],
   "source": [
    "# create function for create annotation file\n",
    "def create_annotation_file(file):\n",
    "    # load the image\n",
    "    image = cv2.imread(file)\n",
    "    # get contours\n",
    "    contours = get_contours(image)\n",
    "    # sort contours left to right\n",
    "    contours_sorted = sorted(contours, key=x_cord_contour, reverse=False)\n",
    "    # draw contours on original image\n",
    "    image_with_sorted_contours = draw_contours(image, contours_sorted)\n",
    "    # mask image\n",
    "    mask = mask_image(image, contours_sorted)\n",
    "    \n",
    "    # # display image with sorted contours\n",
    "    # display(image_with_sorted_contours)\n",
    "    # display(mask)\n",
    "    # create annotation file\n",
    "\n",
    "    filename = file.split('/')[-1]\n",
    "    size = os.path.getsize(file)\n",
    "    names = file.split('/')[1]\n",
    "    regions = []\n",
    "    for i in range(len(contours_sorted)):\n",
    "        region = {}\n",
    "        region['shape_attributes'] = {}\n",
    "        region['shape_attributes']['name'] = 'polygon'\n",
    "        region['shape_attributes']['all_points_x'] = []\n",
    "        region['shape_attributes']['all_points_y'] = []\n",
    "        for j in range(len(contours_sorted[i])):\n",
    "            region['shape_attributes']['all_points_x'].append(contours_sorted[i][j][0][0])\n",
    "            region['shape_attributes']['all_points_y'].append(contours_sorted[i][j][0][1])\n",
    "        regions.append(region)\n",
    "    file_attributes = {}\n",
    "    data = {}\n",
    "    region_attributes = {}\n",
    "    region_attributes['name'] = names\n",
    "    # add {filename}{size} to avoid duplicate key {filename}\n",
    "    data = {f\"{filename}{size}\": {\n",
    "        \"filename\": filename, \n",
    "        \"size\": size, \n",
    "        \"regions\": regions, \n",
    "        \"file_attributes\": file_attributes,\n",
    "        \"region_attributes\": region_attributes,\n",
    "        }}\n",
    "\n",
    "    return data"
   ]
  },
  {
   "cell_type": "code",
   "execution_count": null,
   "metadata": {},
   "outputs": [],
   "source": [
    "# create annotation file for all image\n",
    "def create_annotation_file_all_image(path):\n",
    "    data = {}\n",
    "    for file in os.listdir(path):\n",
    "        if file.endswith('.jpg'):\n",
    "            data.update(create_annotation_file(path+file))\n",
    "    return data"
   ]
  },
  {
   "cell_type": "code",
   "execution_count": null,
   "metadata": {},
   "outputs": [
    {
     "name": "stdout",
     "output_type": "stream",
     "text": [
      "crack\n"
     ]
    }
   ],
   "source": [
    "many_data = 'dataset/crack/accepted/train/'\n",
    "# get crack from my_data\n",
    "crack = many_data.split('/')[1]\n",
    "print(crack)\n"
   ]
  },
  {
   "cell_type": "code",
   "execution_count": null,
   "metadata": {},
   "outputs": [
    {
     "name": "stdout",
     "output_type": "stream",
     "text": [
      "{'accept001001.jpg4147': {'filename': 'accept001001.jpg', 'size': 4147, 'regions': [{'shape_attributes': {'name': 'polygon', 'all_points_x': [32, 32, 35, 35, 34], 'all_points_y': [95, 99, 99, 96, 95]}}, {'shape_attributes': {'name': 'polygon', 'all_points_x': [98, 98, 97, 97, 96, 91, 91, 90, 90, 89, 89, 87, 87, 82, 77, 77, 73, 73, 72, 72, 71, 69, 69, 67, 67, 68, 69, 69, 70, 70, 74, 74, 73, 73, 75, 75, 76, 76, 75, 75, 77, 77, 78, 79, 80, 80, 81, 86, 89, 89, 91, 91, 93, 94, 95, 99, 99], 'all_points_y': [43, 46, 47, 49, 50, 50, 52, 53, 54, 55, 61, 63, 64, 69, 69, 71, 75, 76, 77, 81, 82, 82, 87, 89, 90, 90, 91, 93, 94, 99, 99, 97, 96, 91, 89, 86, 85, 83, 82, 78, 76, 75, 74, 74, 73, 71, 70, 70, 67, 66, 64, 57, 55, 55, 54, 54, 43]}}], 'file_attributes': {}, 'region_attributes': {'name': 'crack'}}}\n",
      "{'accept001002.jpg4421': {'filename': 'accept001002.jpg', 'size': 4421, 'regions': [{'shape_attributes': {'name': 'polygon', 'all_points_x': [31, 31, 32, 32, 30, 24, 24, 26, 27, 28, 28, 29, 29, 28, 28, 25, 25, 26, 26, 24, 24, 19, 19, 18, 18, 17, 17, 14, 11, 4, 4, 2, 0, 0, 2, 3, 3, 2, 0, 0, 2, 3, 3, 4, 4, 3, 3, 8, 8, 9, 9, 8, 8, 5, 4, 3, 3, 4, 8, 8, 7, 5, 5, 9, 9, 11, 12, 14, 15, 15, 16, 19, 19, 20, 20, 22, 22, 23, 23, 25, 26, 27, 27, 29, 29, 31, 31, 32, 32, 33, 33, 34, 34, 35, 35], 'all_points_y': [0, 2, 3, 8, 10, 10, 11, 13, 13, 14, 15, 16, 24, 25, 26, 29, 32, 33, 41, 43, 44, 49, 50, 51, 53, 54, 55, 58, 58, 65, 66, 68, 68, 79, 79, 80, 87, 88, 88, 89, 89, 90, 91, 92, 96, 97, 99, 99, 97, 96, 95, 94, 92, 89, 89, 88, 81, 80, 80, 76, 76, 74, 69, 65, 64, 62, 62, 60, 60, 59, 58, 58, 57, 56, 54, 52, 51, 50, 49, 47, 47, 46, 44, 42, 30, 28, 27, 26, 16, 15, 11, 10, 8, 7, 0]}}, {'shape_attributes': {'name': 'polygon', 'all_points_x': [56, 56, 57, 58, 58, 59, 59, 58, 58, 61, 62, 62, 62, 61, 61, 59, 58], 'all_points_y': [74, 75, 75, 76, 79, 80, 84, 85, 86, 86, 87, 88, 85, 84, 78, 76, 76]}}, {'shape_attributes': {'name': 'polygon', 'all_points_x': [99, 98, 97, 97, 99], 'all_points_y': [39, 40, 40, 41, 43]}}], 'file_attributes': {}, 'region_attributes': {'name': 'crack'}}}\n",
      "{'accept001003.jpg3861': {'filename': 'accept001003.jpg', 'size': 3861, 'regions': [{'shape_attributes': {'name': 'polygon', 'all_points_x': [97, 94, 94, 92, 92, 91, 88, 88, 87, 87, 86, 86, 85, 85, 84, 84, 82, 81, 79, 79, 78, 78, 77, 77, 76, 71, 71, 70, 70, 69, 69, 67, 67, 63, 63, 66, 69, 69, 71, 71, 73, 74, 75, 77, 78, 78, 79, 79, 80, 80, 86, 86, 87, 87, 88, 88, 87, 87, 89, 89, 92, 92, 94, 94, 95, 99, 99], 'all_points_y': [27, 30, 31, 33, 34, 35, 35, 43, 44, 46, 47, 48, 49, 57, 58, 62, 64, 64, 66, 67, 68, 70, 71, 75, 76, 76, 78, 79, 80, 81, 87, 89, 90, 94, 96, 96, 93, 92, 90, 83, 81, 81, 80, 80, 79, 78, 77, 76, 75, 70, 64, 63, 62, 60, 59, 58, 57, 51, 49, 47, 44, 43, 41, 36, 35, 35, 27]}}], 'file_attributes': {}, 'region_attributes': {'name': 'crack'}}}\n"
     ]
    }
   ],
   "source": [
    "# read 10 image\n",
    "for i in range(3):\n",
    "    file = many_data+os.listdir(many_data)[i]\n",
    "    data = create_annotation_file(file)\n",
    "    print(data)\n",
    "    "
   ]
  },
  {
   "cell_type": "code",
   "execution_count": null,
   "metadata": {},
   "outputs": [],
   "source": [
    "import tqdm\n",
    "# create annotation file for all image\n",
    "directories = ['dataset/crack/accepted/train/', 'dataset/spall/accepted/train/']\n",
    "for directory in directories:\n",
    "    data = create_annotation_file_all_image(directory)\n",
    "    with open(directory+'train.json', 'w') as outfile:\n",
    "        # numpy array to list for json\n",
    "        json.dump(data, outfile, default=lambda o: o.tolist())\n",
    "\n",
    "data = create_annotation_file_all_image('dataset/crack/accepted/train/')\n",
    "with open('dataset/crack/accepted/train.json', 'w') as outfile:\n",
    "    # numpy array to list for json\n",
    "    json.dump(data, outfile, default=lambda o: o.tolist())"
   ]
  },
  {
   "cell_type": "code",
   "execution_count": null,
   "metadata": {},
   "outputs": [],
   "source": []
  },
  {
   "cell_type": "code",
   "execution_count": null,
   "metadata": {},
   "outputs": [],
   "source": []
  }
 ],
 "metadata": {
  "kernelspec": {
   "display_name": "pack",
   "language": "python",
   "name": "python3"
  },
  "language_info": {
   "codemirror_mode": {
    "name": "ipython",
    "version": 3
   },
   "file_extension": ".py",
   "mimetype": "text/x-python",
   "name": "python",
   "nbconvert_exporter": "python",
   "pygments_lexer": "ipython3",
   "version": "3.10.8"
  },
  "orig_nbformat": 4,
  "vscode": {
   "interpreter": {
    "hash": "b88035d43cae4ec9859beb9dd03c579ae603966a787fa161926276b5c98c4160"
   }
  }
 },
 "nbformat": 4,
 "nbformat_minor": 2
}
