{
 "cells": [
  {
   "cell_type": "code",
   "execution_count": 1,
   "metadata": {},
   "outputs": [],
   "source": [
    "# dataset for crack and spalling detection in concrete\n",
    "\n",
    "import os\n",
    "import sys\n",
    "import random\n",
    "import math\n",
    "import re\n",
    "import time\n",
    "import numpy as np\n",
    "import cv2\n",
    "import matplotlib\n",
    "import matplotlib.pyplot as plt\n",
    "import pandas as pd\n",
    "import skimage.io\n",
    "from skimage.transform import resize"
   ]
  },
  {
   "cell_type": "code",
   "execution_count": 2,
   "metadata": {},
   "outputs": [
    {
     "name": "stdout",
     "output_type": "stream",
     "text": [
      "crack\n",
      "\t accepted\n",
      "\t nonAccepted\n",
      "spall\n",
      "\t accepted\n",
      "\t nonAccepted\n"
     ]
    }
   ],
   "source": [
    "# dataset directory\n",
    "dataset = os.path.join(os.getcwd(), 'dataset')\n",
    "\n",
    "# get files in dataset directory\n",
    "files = os.listdir(dataset)\n",
    "\n",
    "# check folder and subfolder in dataset directory\n",
    "for file in files:\n",
    "    print(file)\n",
    "    if os.path.isdir(os.path.join(dataset, file)):\n",
    "        subfiles = os.listdir(os.path.join(dataset, file))\n",
    "        for subfile in subfiles:\n",
    "            print('\\t', subfile)"
   ]
  },
  {
   "cell_type": "code",
   "execution_count": 3,
   "metadata": {},
   "outputs": [
    {
     "ename": "FileNotFoundError",
     "evalue": "[WinError 3] The system cannot find the path specified: 'c:\\\\Users\\\\DELL\\\\Downloads\\\\crack_detection\\\\dataset\\\\crack\\\\accpeted'",
     "output_type": "error",
     "traceback": [
      "\u001b[1;31m---------------------------------------------------------------------------\u001b[0m",
      "\u001b[1;31mFileNotFoundError\u001b[0m                         Traceback (most recent call last)",
      "Cell \u001b[1;32mIn[3], line 22\u001b[0m\n\u001b[0;32m     17\u001b[0m     \u001b[39mreturn\u001b[39;00m df\n\u001b[0;32m     19\u001b[0m \u001b[39m# generate dataframe for crack and spalling\u001b[39;00m\n\u001b[0;32m     20\u001b[0m \n\u001b[0;32m     21\u001b[0m \u001b[39m# crack\u001b[39;00m\n\u001b[1;32m---> 22\u001b[0m crack_accpeted \u001b[39m=\u001b[39m generate_df(os\u001b[39m.\u001b[39;49mpath\u001b[39m.\u001b[39;49mjoin(dataset, \u001b[39m'\u001b[39;49m\u001b[39mcrack\u001b[39;49m\u001b[39m'\u001b[39;49m, \u001b[39m'\u001b[39;49m\u001b[39maccpeted\u001b[39;49m\u001b[39m'\u001b[39;49m), \u001b[39m'\u001b[39;49m\u001b[39maccpeted\u001b[39;49m\u001b[39m'\u001b[39;49m)\n\u001b[0;32m     23\u001b[0m crack_nonAccpeted \u001b[39m=\u001b[39m generate_df(os\u001b[39m.\u001b[39mpath\u001b[39m.\u001b[39mjoin(dataset, \u001b[39m'\u001b[39m\u001b[39mcrack\u001b[39m\u001b[39m'\u001b[39m, \u001b[39m'\u001b[39m\u001b[39mnonAccpeted\u001b[39m\u001b[39m'\u001b[39m), \u001b[39m'\u001b[39m\u001b[39mnonAccpeted\u001b[39m\u001b[39m'\u001b[39m)\n\u001b[0;32m     25\u001b[0m \u001b[39m# spalling\u001b[39;00m\n",
      "Cell \u001b[1;32mIn[3], line 8\u001b[0m, in \u001b[0;36mgenerate_df\u001b[1;34m(image_dir, label)\u001b[0m\n\u001b[0;32m      2\u001b[0m \u001b[39mdef\u001b[39;00m \u001b[39mgenerate_df\u001b[39m(image_dir, label):\n\u001b[0;32m      3\u001b[0m     \u001b[39m# image_dir: directory of images\u001b[39;00m\n\u001b[0;32m      4\u001b[0m     \u001b[39m# label: accpeted or nonAccpeted\u001b[39;00m\n\u001b[0;32m      5\u001b[0m     \u001b[39m# type: crack or spall\u001b[39;00m\n\u001b[0;32m      6\u001b[0m \n\u001b[0;32m      7\u001b[0m     \u001b[39m# get files in image_dir\u001b[39;00m\n\u001b[1;32m----> 8\u001b[0m     files \u001b[39m=\u001b[39m os\u001b[39m.\u001b[39;49mlistdir(image_dir)\n\u001b[0;32m     10\u001b[0m     \u001b[39m# create a dataframe\u001b[39;00m\n\u001b[0;32m     11\u001b[0m     df \u001b[39m=\u001b[39m pd\u001b[39m.\u001b[39mDataFrame(columns\u001b[39m=\u001b[39m[\u001b[39m'\u001b[39m\u001b[39mimage\u001b[39m\u001b[39m'\u001b[39m, \u001b[39m'\u001b[39m\u001b[39mlabel\u001b[39m\u001b[39m'\u001b[39m, \u001b[39m'\u001b[39m\u001b[39mtype\u001b[39m\u001b[39m'\u001b[39m])\n",
      "\u001b[1;31mFileNotFoundError\u001b[0m: [WinError 3] The system cannot find the path specified: 'c:\\\\Users\\\\DELL\\\\Downloads\\\\crack_detection\\\\dataset\\\\crack\\\\accpeted'"
     ]
    }
   ],
   "source": [
    "# generate a dataframe\n",
    "def generate_df(image_dir, label):\n",
    "    # image_dir: directory of images\n",
    "    # label: accpeted or nonAccpeted\n",
    "    # type: crack or spall\n",
    "\n",
    "    # get files in image_dir\n",
    "    files = os.listdir(image_dir)\n",
    "\n",
    "    # create a dataframe\n",
    "    df = pd.DataFrame(columns=['image', 'label', 'type'])\n",
    "\n",
    "    # add image and label to dataframe\n",
    "    for file in files:\n",
    "        df = df.append({'image': os.path.join(image_dir, file), 'label': label, 'type': file.split('_')[0]}, ignore_index=True)\n",
    "\n",
    "    return df\n",
    "\n",
    "# generate dataframe for crack and spalling\n",
    "\n",
    "# crack\n",
    "crack_accpeted = generate_df(os.path.join(dataset, 'crack', 'accpeted'), 'accpeted')\n",
    "crack_nonAccpeted = generate_df(os.path.join(dataset, 'crack', 'nonAccpeted'), 'nonAccpeted')\n",
    "\n",
    "# spalling\n",
    "spall_accpeted = generate_df(os.path.join(dataset, 'spall', 'accpeted'), 'accpeted')\n",
    "spall_nonAccpeted = generate_df(os.path.join(dataset, 'spall', 'nonAccpeted'), 'nonAccpeted')\n",
    "\n",
    "print(crack_accpeted)"
   ]
  },
  {
   "cell_type": "code",
   "execution_count": null,
   "metadata": {},
   "outputs": [
    {
     "name": "stdout",
     "output_type": "stream",
     "text": [
      "train_accepted:  4987\n",
      "test_accepted:  1425\n",
      "val_accepted:  713\n",
      "total:  7125\n",
      "train_nonAccepted:  5512\n",
      "test_nonAccepted:  1575\n",
      "val_nonAccepted:  788\n",
      "total:  7875\n",
      "train_accepted:  6001\n",
      "test_accepted:  1715\n",
      "val_accepted:  858\n",
      "total:  8574\n",
      "train_nonAccepted:  7944\n",
      "test_nonAccepted:  2270\n",
      "val_nonAccepted:  1136\n",
      "total:  11350\n"
     ]
    }
   ],
   "source": [
    "# function to train, test, val crack and spall accepted and nonAccepted\n",
    "def train_test_val_split(dataset, train=0.7, test=0.2, val=0.1):\n",
    "    files = os.listdir(dataset)\n",
    "    for file in files:\n",
    "        if os.path.isdir(os.path.join(dataset, file)):\n",
    "            subfiles = os.listdir(os.path.join(dataset, file))\n",
    "            for subfile in subfiles:\n",
    "                if subfile == 'accepted':\n",
    "                    accepted = os.listdir(os.path.join(dataset, file, subfile))\n",
    "                    random.shuffle(accepted)\n",
    "                    train_accepted = accepted[:int(len(accepted)*train)]\n",
    "                    test_accepted = accepted[int(len(accepted)*train):int(len(accepted)*(train+test))]\n",
    "                    val_accepted = accepted[int(len(accepted)*(train+test)):]\n",
    "                    print('train_accepted: ', len(train_accepted))\n",
    "                    print('test_accepted: ', len(test_accepted))\n",
    "                    print('val_accepted: ', len(val_accepted))\n",
    "                    print('total: ', len(train_accepted)+len(test_accepted)+len(val_accepted))\n",
    "                elif subfile == 'nonAccepted':\n",
    "                    nonAccepted = os.listdir(os.path.join(dataset, file, subfile))\n",
    "                    random.shuffle(nonAccepted)\n",
    "                    train_nonAccepted = nonAccepted[:int(len(nonAccepted)*train)]\n",
    "                    test_nonAccepted = nonAccepted[int(len(nonAccepted)*train):int(len(nonAccepted)*(train+test))]\n",
    "                    val_nonAccepted = nonAccepted[int(len(nonAccepted)*(train+test)):]\n",
    "                    print('train_nonAccepted: ', len(train_nonAccepted))\n",
    "                    print('test_nonAccepted: ', len(test_nonAccepted))\n",
    "                    print('val_nonAccepted: ', len(val_nonAccepted))\n",
    "                    print('total: ', len(train_nonAccepted)+len(test_nonAccepted)+len(val_nonAccepted))\n",
    "                \n",
    "                # function to create directory for train, test, val\n",
    "                def create_dir(path):\n",
    "                    if not os.path.exists(path):\n",
    "                        os.mkdir(path)\n",
    "                    else:\n",
    "                        print('path already exists')\n",
    "\n",
    "                # function to create directory for accepted and nonAccepted\n",
    "                def create_subdir(path, subpath):\n",
    "                    \n",
    "\n",
    "\n",
    "\n",
    "\n",
    "                    \n",
    "\n"
   ]
  },
  {
   "cell_type": "code",
   "execution_count": null,
   "metadata": {},
   "outputs": [],
   "source": []
  },
  {
   "cell_type": "code",
   "execution_count": null,
   "metadata": {},
   "outputs": [],
   "source": [
    "# train, test and validation for each crack and spall accepted and nonAccepted images\n",
    "train = []\n",
    "test = []\n",
    "validation = []\n",
    "\n",
    "# get all images in dataset directory\n",
    "for file in files:\n",
    "    if os.path.isdir(os.path.join(dataset, file)):\n",
    "        subfiles = os.listdir(os.path.join(dataset, file))\n",
    "        for subfile in subfiles:\n",
    "            if subfile == 'accepted':\n",
    "                accepted = os.listdir(os.path.join(dataset, file, subfile))\n",
    "                for acc in accepted:\n",
    "                    if acc.endswith('.jpg'):\n",
    "                        train.append(os.path.join(dataset, file, subfile, acc))\n",
    "            if subfile == 'nonAccepted':\n",
    "                nonAccepted = os.listdir(os.path.join(dataset, file, subfile))\n",
    "                for nonAcc in nonAccepted:\n",
    "                    if nonAcc.endswith('.jpg'):\n",
    "                        train.append(os.path.join(dataset, file, subfile, nonAcc))\n",
    "\n"
   ]
  },
  {
   "cell_type": "code",
   "execution_count": null,
   "metadata": {},
   "outputs": [],
   "source": [
    "# function to get edges detection for crack and spall folder and create folder for edges detection\n"
   ]
  },
  {
   "cell_type": "code",
   "execution_count": null,
   "metadata": {},
   "outputs": [],
   "source": []
  }
 ],
 "metadata": {
  "kernelspec": {
   "display_name": "pack",
   "language": "python",
   "name": "python3"
  },
  "language_info": {
   "codemirror_mode": {
    "name": "ipython",
    "version": 3
   },
   "file_extension": ".py",
   "mimetype": "text/x-python",
   "name": "python",
   "nbconvert_exporter": "python",
   "pygments_lexer": "ipython3",
   "version": "3.10.8"
  },
  "orig_nbformat": 4,
  "vscode": {
   "interpreter": {
    "hash": "b88035d43cae4ec9859beb9dd03c579ae603966a787fa161926276b5c98c4160"
   }
  }
 },
 "nbformat": 4,
 "nbformat_minor": 2
}
