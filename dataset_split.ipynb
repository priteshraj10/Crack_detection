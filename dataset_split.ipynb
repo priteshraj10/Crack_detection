{
 "cells": [
  {
   "cell_type": "code",
   "execution_count": 111,
   "metadata": {},
   "outputs": [],
   "source": [
    "import os\n",
    "import re\n",
    "import random\n",
    "import numpy as np\n",
    "import pandas as pd"
   ]
  },
  {
   "cell_type": "code",
   "execution_count": 112,
   "metadata": {},
   "outputs": [
    {
     "name": "stdout",
     "output_type": "stream",
     "text": [
      "crack\n",
      "\t accepted\n",
      "\t nonAccepted\n",
      "spall\n",
      "\t accepted\n",
      "\t nonAccepted\n"
     ]
    }
   ],
   "source": [
    "# dataset directory\n",
    "dataset = os.path.join(os.getcwd(), 'dataset')\n",
    "\n",
    "# get files in dataset directory\n",
    "files = os.listdir(dataset)\n",
    "\n",
    "# check folder and subfolder in dataset directory\n",
    "for file in files:\n",
    "    print(file)\n",
    "    if os.path.isdir(os.path.join(dataset, file)):\n",
    "        subfiles = os.listdir(os.path.join(dataset, file))\n",
    "        for subfile in subfiles:\n",
    "            print('\\t', subfile)"
   ]
  },
  {
   "cell_type": "code",
   "execution_count": 113,
   "metadata": {},
   "outputs": [
    {
     "name": "stdout",
     "output_type": "stream",
     "text": [
      "crack/accepted:  7125\n",
      "spall/accepted:  8574\n"
     ]
    }
   ],
   "source": [
    "# check number of files in crack/accepted and spall/accepeted\n",
    "print('crack/accepted: ', len(os.listdir(os.path.join(dataset, 'crack', 'accepted'))))\n",
    "print('spall/accepted: ', len(os.listdir(os.path.join(dataset, 'spall', 'accepted'))))"
   ]
  },
  {
   "cell_type": "code",
   "execution_count": 120,
   "metadata": {},
   "outputs": [
    {
     "name": "stdout",
     "output_type": "stream",
     "text": [
      "crack/accepted/train:  4275\n",
      "crack/accepted/validation:  1425\n",
      "crack/accepted/test:  1425\n",
      "spall/accepted/train:  5144\n",
      "spall/accepted/validation:  1715\n",
      "spall/accepted/test:  1715\n"
     ]
    }
   ],
   "source": [
    "import os\n",
    "import random\n",
    "import shutil\n",
    "\n",
    "dataset = os.path.join(os.getcwd(), 'dataset')\n",
    "files = ['crack', 'spall']\n",
    "\n",
    "for file in files:\n",
    "    # get all files in crack/accepted and spall/accepted\n",
    "    accepted_files = os.listdir(os.path.join(dataset, file, 'accepted'))\n",
    "    # shuffle files\n",
    "    random.shuffle(accepted_files)\n",
    "    # split files into train, validation, and test\n",
    "    train_files = accepted_files[:int(len(accepted_files)*0.6)]\n",
    "    validation_files = accepted_files[int(len(accepted_files)*0.6):int(len(accepted_files)*0.8)]\n",
    "    test_files = accepted_files[int(len(accepted_files)*0.8):]\n",
    "\n",
    "    # create train, validation, and test directory inside crack and spall accepted directory\n",
    "    os.mkdir(os.path.join(dataset, file, 'accepted', 'train'))\n",
    "    os.mkdir(os.path.join(dataset, file, 'accepted', 'validation'))\n",
    "    os.mkdir(os.path.join(dataset, file, 'accepted', 'test'))\n",
    "\n",
    "    # copy files into train, validation, and test directory\n",
    "    for train_file in train_files:\n",
    "        shutil.copy(os.path.join(dataset, file, 'accepted', train_file), os.path.join(dataset, file, 'accepted', 'train', train_file))\n",
    "    for validation_file in validation_files:\n",
    "        shutil.copy(os.path.join(dataset, file, 'accepted', validation_file), os.path.join(dataset, file, 'accepted', 'validation', validation_file))\n",
    "    for test_file in test_files:\n",
    "        shutil.copy(os.path.join(dataset, file, 'accepted', test_file), os.path.join(dataset, file, 'accepted', 'test', test_file))\n",
    "\n",
    "\n",
    "# check number of files in crack/accepted/train, crack/accepted/validation, and crack/accepted/test\n",
    "print('crack/accepted/train: ', len(os.listdir(os.path.join(dataset, 'crack', 'accepted', 'train'))))\n",
    "print('crack/accepted/validation: ', len(os.listdir(os.path.join(dataset, 'crack', 'accepted', 'validation'))))\n",
    "print('crack/accepted/test: ', len(os.listdir(os.path.join(dataset, 'crack', 'accepted', 'test'))))\n",
    "\n",
    "# check number of files in spall/accepted/train, spall/accepted/validation, and spall/accepted/test\n",
    "print('spall/accepted/train: ', len(os.listdir(os.path.join(dataset, 'spall', 'accepted', 'train'))))\n",
    "print('spall/accepted/validation: ', len(os.listdir(os.path.join(dataset, 'spall', 'accepted', 'validation'))))\n",
    "print('spall/accepted/test: ', len(os.listdir(os.path.join(dataset, 'spall', 'accepted', 'test'))))\n"
   ]
  },
  {
   "cell_type": "code",
   "execution_count": null,
   "metadata": {},
   "outputs": [],
   "source": []
  }
 ],
 "metadata": {
  "kernelspec": {
   "display_name": "pack",
   "language": "python",
   "name": "python3"
  },
  "language_info": {
   "codemirror_mode": {
    "name": "ipython",
    "version": 3
   },
   "file_extension": ".py",
   "mimetype": "text/x-python",
   "name": "python",
   "nbconvert_exporter": "python",
   "pygments_lexer": "ipython3",
   "version": "3.10.8"
  },
  "orig_nbformat": 4
 },
 "nbformat": 4,
 "nbformat_minor": 2
}
